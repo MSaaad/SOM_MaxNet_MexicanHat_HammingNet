{
  "nbformat": 4,
  "nbformat_minor": 0,
  "metadata": {
    "colab": {
      "name": "Q4-HW4",
      "provenance": []
    },
    "kernelspec": {
      "name": "python3",
      "display_name": "Python 3"
    }
  },
  "cells": [
    {
      "cell_type": "code",
      "metadata": {
        "id": "Lj6f9CzFCT12",
        "colab_type": "code",
        "colab": {}
      },
      "source": [
        "import numpy as np"
      ],
      "execution_count": 21,
      "outputs": []
    },
    {
      "cell_type": "code",
      "metadata": {
        "id": "dxvzCvPKCY4O",
        "colab_type": "code",
        "colab": {}
      },
      "source": [
        "a = np.array([+1, -1, +1, -1, +1, -1])\n",
        "b = np.array([-1, +1, -1, +1, -1, +1])\n",
        "c = np.array([+1, +1, +1, +1, +1, +1])\n",
        "v1  = np.array([+1, -1, +1, +1, -1, +1])\n",
        "v2  = np.array([-1, +1, +1, -1, +1, -1])\n",
        "v3  = np.array([+1, +1, +1, -1, -1, -1])\n",
        "v4  = np.array([-1, -1, -1, +1, +1, +1])\n",
        "v5  = np.array([+1, +1, +1, +1, +1, +1])\n",
        "v6  = np.array([-1, -1, +1, -1, -1, -1])\n",
        "v7  = np.array([-1, -1, -1, +1, -1, -1])\n",
        "v8  = np.array([+1, +1, -1, -1, +1, +1])\n",
        "v9  = np.array([+1, +1, -1, +1, +1, +1])\n",
        "v10 = np.array([+1, +1, +1, -1, +1, +1])"
      ],
      "execution_count": 25,
      "outputs": []
    },
    {
      "cell_type": "code",
      "metadata": {
        "id": "DuXlgTnWWa1H",
        "colab_type": "code",
        "colab": {}
      },
      "source": [
        "class HammingNet:\n",
        "  def __init__(self, e_list, dimension):\n",
        "    self.e_list = e_list\n",
        "    self.dimension = dimension\n",
        "    self.weights = np.zeros((len(self.e_list), self.dimension + 1))\n",
        "    self.weights[:, 0] = self.dimension / 2\n",
        "    for i in range(len(self.e_list)):\n",
        "        self.weights[i, 1:] = e_list[i] / 2\n",
        "  \n",
        "  def update(self, x):\n",
        "        x = np.matmul(self.weights, np.vstack((np.ones((1,1)), x.reshape(-1, 1))))\n",
        "        return np.argmax(x) + 1, x\n"
      ],
      "execution_count": 26,
      "outputs": []
    },
    {
      "cell_type": "code",
      "metadata": {
        "id": "8gCAqVPBCuic",
        "colab_type": "code",
        "colab": {
          "base_uri": "https://localhost:8080/",
          "height": 364
        },
        "outputId": "5cc8cbfe-1f12-4150-e8a2-74832e5bd916"
      },
      "source": [
        "e_list = [a, b, c]\n",
        "inputs = [v1, v2, v3, v4, v5, v6, v7, v8, v9, v10]\n",
        "Hn = HammingNet(e_list, 6)\n",
        "for i in range(len(inputs)):\n",
        "  print(\"original vector is: \", inputs[i])\n",
        "  vector_type, out = Hn.update(inputs[i])\n",
        "  print(\"output vector is: \", out.flatten(), \"vector belong to vector number \", vector_type)"
      ],
      "execution_count": 27,
      "outputs": [
        {
          "output_type": "stream",
          "text": [
            "original vector is:  [ 1 -1  1  1 -1  1]\n",
            "output vector is:  [3. 3. 4.] vector belong to vector number  3\n",
            "original vector is:  [-1  1  1 -1  1 -1]\n",
            "output vector is:  [4. 2. 3.] vector belong to vector number  1\n",
            "original vector is:  [ 1  1  1 -1 -1 -1]\n",
            "output vector is:  [4. 2. 3.] vector belong to vector number  1\n",
            "original vector is:  [-1 -1 -1  1  1  1]\n",
            "output vector is:  [2. 4. 3.] vector belong to vector number  2\n",
            "original vector is:  [1 1 1 1 1 1]\n",
            "output vector is:  [3. 3. 6.] vector belong to vector number  3\n",
            "original vector is:  [-1 -1  1 -1 -1 -1]\n",
            "output vector is:  [4. 2. 1.] vector belong to vector number  1\n",
            "original vector is:  [-1 -1 -1  1 -1 -1]\n",
            "output vector is:  [2. 4. 1.] vector belong to vector number  2\n",
            "original vector is:  [ 1  1 -1 -1  1  1]\n",
            "output vector is:  [3. 3. 4.] vector belong to vector number  3\n",
            "original vector is:  [ 1  1 -1  1  1  1]\n",
            "output vector is:  [2. 4. 5.] vector belong to vector number  3\n",
            "original vector is:  [ 1  1  1 -1  1  1]\n",
            "output vector is:  [4. 2. 5.] vector belong to vector number  3\n"
          ],
          "name": "stdout"
        }
      ]
    },
    {
      "cell_type": "code",
      "metadata": {
        "id": "rbAxR5xdC55j",
        "colab_type": "code",
        "colab": {}
      },
      "source": [
        ""
      ],
      "execution_count": null,
      "outputs": []
    }
  ]
}