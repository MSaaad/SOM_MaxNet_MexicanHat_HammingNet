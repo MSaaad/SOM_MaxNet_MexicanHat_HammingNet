{
  "nbformat": 4,
  "nbformat_minor": 0,
  "metadata": {
    "colab": {
      "name": "Q2-HW4",
      "provenance": []
    },
    "kernelspec": {
      "name": "python3",
      "display_name": "Python 3"
    }
  },
  "cells": [
    {
      "cell_type": "code",
      "metadata": {
        "id": "rsc4GoFSzzvv",
        "colab_type": "code",
        "colab": {}
      },
      "source": [
        "import matplotlib.pyplot as plt\n",
        "import numpy as np"
      ],
      "execution_count": 146,
      "outputs": []
    },
    {
      "cell_type": "code",
      "metadata": {
        "id": "sx6581gy2ViD",
        "colab_type": "code",
        "colab": {}
      },
      "source": [
        "def activation_function(x):\n",
        "  mask = 1*(x >= 0)\n",
        "  x = x * mask\n",
        "  return x"
      ],
      "execution_count": 147,
      "outputs": []
    },
    {
      "cell_type": "code",
      "metadata": {
        "id": "xgRGk3Cp5Uii",
        "colab_type": "code",
        "colab": {}
      },
      "source": [
        "class MaxNet():\n",
        "    def __init__(self, diminsion, e, activation_function):\n",
        "        self.diminsion = diminsion\n",
        "        self.e = e\n",
        "        self.activation_function = activation_function\n",
        "        self.weight = np.eye(self.diminsion, dtype='float')*self.e + np.eye(self.diminsion, dtype='float') + -1 * np.ones((self.diminsion, self.diminsion), dtype='float') * self.e\n",
        "\n",
        "    def stop_condition(self, x):\n",
        "        nzeros = np.sum(1*(x == 0))\n",
        "        if nzeros == (self.diminsion -1):\n",
        "            return True\n",
        "        return False\n",
        "\n",
        "    def update(self, x):\n",
        "        counter = 0\n",
        "        print ('in iteration = {}'.format(counter + 1))\n",
        "        print( x.flatten())\n",
        "        print(\"\\n\")\n",
        "\n",
        "        while True:\n",
        "            x = self.activation_function(np.matmul(self.weight, x))\n",
        "            counter += 1\n",
        "            print ('in iteration = {}'.format(counter + 1))\n",
        "            print( x.flatten())\n",
        "            print(\"\\n\")\n",
        "            if self.stop_condition(x) == True:\n",
        "              break\n",
        "        "
      ],
      "execution_count": 152,
      "outputs": []
    },
    {
      "cell_type": "code",
      "metadata": {
        "id": "nvVP1SIDcNRG",
        "colab_type": "code",
        "colab": {
          "base_uri": "https://localhost:8080/",
          "height": 642
        },
        "outputId": "3365ccd3-72cf-49d5-fdcf-9e01f84ab3bb"
      },
      "source": [
        "x = np.array([1.2, 1.1, 1, 0.9, 0.95, 1.15]).reshape(-1, 1)\n",
        "epsilon = 0.15\n",
        "net = MaxNet(x.shape[0], epsilon, activation_function)\n",
        "net.update(x)"
      ],
      "execution_count": 153,
      "outputs": [
        {
          "output_type": "stream",
          "text": [
            "in iteration = 1\n",
            "[1.2  1.1  1.   0.9  0.95 1.15]\n",
            "\n",
            "\n",
            "in iteration = 2\n",
            "[0.435  0.32   0.205  0.09   0.1475 0.3775]\n",
            "\n",
            "\n",
            "in iteration = 3\n",
            "[ 0.264     0.13175  -0.       -0.       -0.        0.197875]\n",
            "\n",
            "\n",
            "in iteration = 4\n",
            "[ 0.21455625  0.06246875 -0.         -0.         -0.          0.1385125 ]\n",
            "\n",
            "\n",
            "in iteration = 5\n",
            "[ 0.18440906  0.00950844 -0.         -0.         -0.          0.09695875]\n",
            "\n",
            "\n",
            "in iteration = 6\n",
            "[ 0.16843898 -0.         -0.         -0.         -0.          0.06787112]\n",
            "\n",
            "\n",
            "in iteration = 7\n",
            "[ 0.15825832 -0.         -0.         -0.         -0.          0.04260528]\n",
            "\n",
            "\n",
            "in iteration = 8\n",
            "[ 0.15186752 -0.         -0.         -0.         -0.          0.01886653]\n",
            "\n",
            "\n",
            "in iteration = 9\n",
            "[ 0.14903754 -0.         -0.         -0.         -0.         -0.        ]\n",
            "\n",
            "\n"
          ],
          "name": "stdout"
        }
      ]
    },
    {
      "cell_type": "code",
      "metadata": {
        "id": "UxXx4-uzcQWG",
        "colab_type": "code",
        "colab": {}
      },
      "source": [
        ""
      ],
      "execution_count": null,
      "outputs": []
    }
  ]
}